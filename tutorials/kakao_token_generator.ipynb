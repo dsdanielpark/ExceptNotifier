{
 "cells": [
  {
   "attachments": {},
   "cell_type": "markdown",
   "metadata": {},
   "source": [
    "# How to use KakaoTalk in Python package ExceptNotifier #2 Get KakaoTalk Access Token"
   ]
  },
  {
   "attachments": {},
   "cell_type": "markdown",
   "metadata": {},
   "source": [
    "# You need to see #1 first at here.  \n",
    "- https://deeptechlog.vercel.app/how%20can%20I%20send%20kakaotalk"
   ]
  },
  {
   "attachments": {},
   "cell_type": "markdown",
   "metadata": {},
   "source": [
    "## Before Start\n",
    "### `KaKao Talk` is strongly discouraged as an application of python `ExceptNotifier`.\n",
    "KakaoTalk is a very complex application that is mainly used for various businesses in Korea. It's very complex, the tokens have short lifetimes, and the application's dynamic consent and dependencies are very complex. Python ExceptNotifier takes reuse very seriously. Therefore, KakaoTalk, which is very inconvenient to set up initially, has an expiration date of tokens, and has various update errors, is not strongly recommended as an application that receives ExceptNotifier alarms. (Also, do not use KakaoTalk as it is confirmed that it does not support alarms in the case of the Send Me Message API.)"
   ]
  },
  {
   "cell_type": "markdown",
   "metadata": {},
   "source": [
    "# Get your API from KAKAO DEV homepage."
   ]
  },
  {
   "attachments": {},
   "cell_type": "markdown",
   "metadata": {},
   "source": [
    "### 1. Import Module"
   ]
  },
  {
   "cell_type": "code",
   "execution_count": 2,
   "metadata": {},
   "outputs": [
    {
     "ename": "ModuleNotFoundError",
     "evalue": "No module named 'ExceptNotifier'",
     "output_type": "error",
     "traceback": [
      "\u001b[1;31m---------------------------------------------------------------------------\u001b[0m",
      "\u001b[1;31mModuleNotFoundError\u001b[0m                       Traceback (most recent call last)",
      "\u001b[1;32m~\\AppData\\Local\\Temp\\ipykernel_2992\\686247517.py\u001b[0m in \u001b[0;36m<module>\u001b[1;34m\u001b[0m\n\u001b[1;32m----> 1\u001b[1;33m \u001b[1;32mfrom\u001b[0m \u001b[0mExceptNotifier\u001b[0m\u001b[1;33m.\u001b[0m\u001b[0mget_token\u001b[0m\u001b[1;33m.\u001b[0m\u001b[0mkakao_token\u001b[0m \u001b[1;32mimport\u001b[0m \u001b[0mget_authorize_code\u001b[0m\u001b[1;33m,\u001b[0m \u001b[0msave_token\u001b[0m\u001b[1;33m,\u001b[0m \u001b[0msend_kakao_msg\u001b[0m\u001b[1;33m\u001b[0m\u001b[1;33m\u001b[0m\u001b[0m\n\u001b[0m",
      "\u001b[1;31mModuleNotFoundError\u001b[0m: No module named 'ExceptNotifier'"
     ]
    }
   ],
   "source": [
    "from ExceptNotifier import get_authorize_code, save_token, send_kakao_msg"
   ]
  },
  {
   "cell_type": "code",
   "execution_count": 8,
   "metadata": {},
   "outputs": [],
   "source": [
    "import requests\n",
    "import json\n",
    "\n",
    "def get_authorize_code(rest_api_key):\n",
    "    redirect_uri = 'https://example.com/oauth'\n",
    "    print()\n",
    "    print(f'\\n\\nhttps://kauth.kakao.com/oauth/authorize?client_id={rest_api_key}&redirect_uri={redirect_uri}&response_type=code')\n",
    "    \n",
    "\n",
    "def save_token(rest_api_key, authorize_code, token_path):\n",
    "    redirect_uri = 'https://example.com/oauth'\n",
    "    url_token = 'https://kauth.kakao.com/oauth/token'\n",
    "    data = {\n",
    "        'grant_type':'authorization_code',\n",
    "        'client_id':rest_api_key,\n",
    "        'redirect_uri':redirect_uri,\n",
    "        'code': authorize_code,\n",
    "    }\n",
    "    response = requests.post(url_token, data=data)\n",
    "    tokens = response.json()\n",
    "    with open(token_path,\"w\") as f:\n",
    "        json.dump(tokens, f)\n",
    "    \n",
    "    return tokens\n",
    "\n"
   ]
  },
  {
   "attachments": {},
   "cell_type": "markdown",
   "metadata": {},
   "source": [
    "### 2. Get your REST API KEY "
   ]
  },
  {
   "cell_type": "code",
   "execution_count": 9,
   "metadata": {},
   "outputs": [],
   "source": [
    "rest_api_key = 'eda9c93c3cb3d95390fe3b6843765bec'"
   ]
  },
  {
   "attachments": {},
   "cell_type": "markdown",
   "metadata": {},
   "source": [
    "### 3. Get Autorize Code"
   ]
  },
  {
   "attachments": {},
   "cell_type": "markdown",
   "metadata": {},
   "source": [
    "#### 1) Visit the site below, log in with your Kakao ID, and agree to all permissions. <br> 2) Copy the part after `code=` in the returned URL. <br> (please, ignore 404 Not found page, we need just code from URL) <br> 3) Assign the copied value to the authorize_code variable."
   ]
  },
  {
   "cell_type": "code",
   "execution_count": 10,
   "metadata": {},
   "outputs": [
    {
     "name": "stdout",
     "output_type": "stream",
     "text": [
      "\n",
      "\n",
      "\n",
      "https://kauth.kakao.com/oauth/authorize?client_id=eda9c93c3cb3d95390fe3b6843765bec&redirect_uri=https://example.com/oauth&response_type=code\n"
     ]
    }
   ],
   "source": [
    "get_authorize_code(rest_api_key)"
   ]
  },
  {
   "cell_type": "code",
   "execution_count": 11,
   "metadata": {},
   "outputs": [],
   "source": [
    "authorize_code = 'Uq_PJMY_HyDNk5hiBrLKAp3-aLSUCtLk97ALUQqzkC-olL5zV1mfP-_Ms7hJX1UCKtFIoQo9dNkAAAGHjfmj2A'"
   ]
  },
  {
   "attachments": {},
   "cell_type": "markdown",
   "metadata": {},
   "source": [
    "### 4. Save Autorized Token"
   ]
  },
  {
   "cell_type": "code",
   "execution_count": 12,
   "metadata": {},
   "outputs": [
    {
     "data": {
      "text/plain": [
       "{'access_token': 'R51ePgtd-rT6eYTKo96so4AeFUMbOJK0E2XG2fLiCj11WgAAAYeN-6Rd',\n",
       " 'token_type': 'bearer',\n",
       " 'refresh_token': 'TEN89HkO4tL17wq9n9xB8SLEkQkK_rtVM7IX8ayfCj11WgAAAYeN-6Rc',\n",
       " 'expires_in': 21599,\n",
       " 'scope': 'talk_message',\n",
       " 'refresh_token_expires_in': 5183999}"
      ]
     },
     "execution_count": 12,
     "metadata": {},
     "output_type": "execute_result"
    }
   ],
   "source": [
    "token_path = \"token.json\"\n",
    "save_token(rest_api_key, authorize_code, token_path)"
   ]
  },
  {
   "attachments": {},
   "cell_type": "markdown",
   "metadata": {},
   "source": [
    "## `Caution: Very Important Notice`\n",
    "#### If you have confirmed that a valid token is returned thus far, do not re-run the code above. If you run it again, it may not work properly. <br><br>  If a `403 error` occurs due to duplicate execution, you must visit the following site, remove all permissions from My Application, and restart from the top of this laptop. https://accounts.kakao.com/weblogin/account Next."
   ]
  },
  {
   "attachments": {},
   "cell_type": "markdown",
   "metadata": {},
   "source": [
    "### 5. Send Message To Me"
   ]
  },
  {
   "cell_type": "code",
   "execution_count": 16,
   "metadata": {},
   "outputs": [
    {
     "data": {
      "text/plain": [
       "200"
      ]
     },
     "execution_count": 16,
     "metadata": {},
     "output_type": "execute_result"
    }
   ],
   "source": [
    "msg = \"Sending Message Test\"\n",
    "token_path = \"token.json\"\n",
    "send_kakao_msg(token_path, msg)"
   ]
  },
  {
   "cell_type": "code",
   "execution_count": null,
   "metadata": {},
   "outputs": [],
   "source": []
  }
 ],
 "metadata": {
  "kernelspec": {
   "display_name": "Python 3",
   "language": "python",
   "name": "python3"
  },
  "language_info": {
   "codemirror_mode": {
    "name": "ipython",
    "version": 3
   },
   "file_extension": ".py",
   "mimetype": "text/x-python",
   "name": "python",
   "nbconvert_exporter": "python",
   "pygments_lexer": "ipython3",
   "version": "3.7.9"
  },
  "orig_nbformat": 4
 },
 "nbformat": 4,
 "nbformat_minor": 2
}
