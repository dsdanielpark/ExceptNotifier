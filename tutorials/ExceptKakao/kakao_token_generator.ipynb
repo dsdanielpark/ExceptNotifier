{
 "cells": [
  {
   "attachments": {},
   "cell_type": "markdown",
   "metadata": {},
   "source": [
    "# How to use KakaoTalk in Python package ExceptNotifier \n",
    "## #2 Get KakaoTalk Access Token"
   ]
  },
  {
   "attachments": {},
   "cell_type": "markdown",
   "metadata": {},
   "source": [
    "###  You need to see #1 first at here.  \n",
    "- https://deeptechlog.vercel.app/python%20kakao%20token%20kor"
   ]
  },
  {
   "attachments": {},
   "cell_type": "markdown",
   "metadata": {},
   "source": [
    "## Before Start\n",
    "### `KaKao Talk` is strongly discouraged as an application of python `ExceptNotifier`.\n",
    "KakaoTalk is a very complex application that is mainly used for various businesses in Korea. It's very complex, the tokens have short lifetimes, and the application's dynamic consent and dependencies are very complex. Python ExceptNotifier takes reuse very seriously. Therefore, KakaoTalk, which is very inconvenient to set up initially, has an expiration date of tokens, and has various update errors, is not strongly recommended as an application that receives ExceptNotifier alarms. (Also, do not use KakaoTalk as it is confirmed that it does not support alarms in the case of the Send Me Message API.)"
   ]
  },
  {
   "cell_type": "markdown",
   "metadata": {},
   "source": [
    "# Get your API from KAKAO DEV homepage."
   ]
  },
  {
   "attachments": {},
   "cell_type": "markdown",
   "metadata": {},
   "source": [
    "### 1. Import Module"
   ]
  },
  {
   "cell_type": "code",
   "execution_count": null,
   "metadata": {},
   "outputs": [],
   "source": [
    "from ExceptNotifier import get_authorize_code, save_token, send_kakao_msg"
   ]
  },
  {
   "attachments": {},
   "cell_type": "markdown",
   "metadata": {},
   "source": [
    "### 2. Get your REST API KEY "
   ]
  },
  {
   "cell_type": "code",
   "execution_count": null,
   "metadata": {},
   "outputs": [],
   "source": [
    "rest_api_key = 'xxxxxx'"
   ]
  },
  {
   "attachments": {},
   "cell_type": "markdown",
   "metadata": {},
   "source": [
    "### 3. Get Autorize Code"
   ]
  },
  {
   "attachments": {},
   "cell_type": "markdown",
   "metadata": {},
   "source": [
    "- 1) Visit the site below, log in with your Kakao ID, and agree to all permissions.\n",
    "- 2) Copy the part after `code=` in the returned URL. (please, ignore 404 Not found page, we need just code from URL)\n",
    "- 3) Assign the copied value to the authorize_code variable."
   ]
  },
  {
   "cell_type": "code",
   "execution_count": null,
   "metadata": {},
   "outputs": [],
   "source": [
    "get_authorize_code(rest_api_key)"
   ]
  },
  {
   "cell_type": "code",
   "execution_count": null,
   "metadata": {},
   "outputs": [],
   "source": [
    "authorize_code = 'yyyyyyyyyyy'"
   ]
  },
  {
   "attachments": {},
   "cell_type": "markdown",
   "metadata": {},
   "source": [
    "### 4. Save Autorized Token"
   ]
  },
  {
   "cell_type": "code",
   "execution_count": null,
   "metadata": {},
   "outputs": [],
   "source": [
    "token_path = \"token.json\"\n",
    "save_token(rest_api_key, authorize_code, token_path)"
   ]
  },
  {
   "attachments": {},
   "cell_type": "markdown",
   "metadata": {},
   "source": [
    "## `Caution: Very Important Notice`\n",
    "#### If you have confirmed that a valid token is returned thus far, do not re-run the code above. If you run it again, it may not work properly. <br><br>  If a `403 error` occurs due to duplicate execution, you must visit the following site, remove all permissions from My Application, and restart from the top of this ipython file. https://accounts.kakao.com/weblogin/account Next."
   ]
  },
  {
   "attachments": {},
   "cell_type": "markdown",
   "metadata": {},
   "source": [
    "### 5. Send Message To Me"
   ]
  },
  {
   "cell_type": "code",
   "execution_count": null,
   "metadata": {},
   "outputs": [],
   "source": [
    "msg = \"Sending Message Test\"\n",
    "token_path = \"token.json\"\n",
    "send_kakao_msg(token_path, msg)"
   ]
  }
 ],
 "metadata": {
  "kernelspec": {
   "display_name": "Python 3",
   "language": "python",
   "name": "python3"
  },
  "language_info": {
   "codemirror_mode": {
    "name": "ipython",
    "version": 3
   },
   "file_extension": ".py",
   "mimetype": "text/x-python",
   "name": "python",
   "nbconvert_exporter": "python",
   "pygments_lexer": "ipython3",
   "version": "3.7.9"
  },
  "orig_nbformat": 4
 },
 "nbformat": 4,
 "nbformat_minor": 2
}
