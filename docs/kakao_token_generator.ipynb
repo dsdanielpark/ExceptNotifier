{
 "cells": [
  {
   "attachments": {},
   "cell_type": "markdown",
   "metadata": {},
   "source": [
    "# You need to see #1 first.  https://deeptechlog.vercel.app/how%20to%20get%20kakao%20api"
   ]
  },
  {
   "attachments": {},
   "cell_type": "markdown",
   "metadata": {},
   "source": [
    "# How to use KakaoTalk in Python package ExceptNotifier #2 Get KakaoTalk Access Token"
   ]
  },
  {
   "attachments": {},
   "cell_type": "markdown",
   "metadata": {},
   "source": [
    "## Before Start\n",
    "### `KaKao Talk` is strongly discouraged as an application of python `ExceptNotifier`.\n",
    "KakaoTalk is a very complex application that is mainly used for various businesses in Korea. It's very complex, the tokens have short lifetimes, and the application's dynamic consent and dependencies are very complex. Python ExceptNotifier takes reuse very seriously. Therefore, KakaoTalk, which is very inconvenient to set up initially, has an expiration date of tokens, and has various update errors, is not strongly recommended as an application that receives ExceptNotifier alarms. (Also, do not use KakaoTalk as it is confirmed that it does not support alarms in the case of the Send Me Message API.)"
   ]
  },
  {
   "cell_type": "markdown",
   "metadata": {},
   "source": [
    "# Get your API from KAKAO DEV homepage."
   ]
  },
  {
   "attachments": {},
   "cell_type": "markdown",
   "metadata": {},
   "source": [
    "### 1. Import Module"
   ]
  },
  {
   "cell_type": "code",
   "execution_count": null,
   "metadata": {},
   "outputs": [],
   "source": [
    "from ExceptNotifier import get_authorize_code, save_token, send_kakao_msg"
   ]
  },
  {
   "attachments": {},
   "cell_type": "markdown",
   "metadata": {},
   "source": [
    "### 2. Get your REST API KEY "
   ]
  },
  {
   "cell_type": "code",
   "execution_count": null,
   "metadata": {},
   "outputs": [],
   "source": [
    "rest_api_key = 'xxxxxxxxxxxxxx'"
   ]
  },
  {
   "attachments": {},
   "cell_type": "markdown",
   "metadata": {},
   "source": [
    "### 3. Get Autorize Code"
   ]
  },
  {
   "attachments": {},
   "cell_type": "markdown",
   "metadata": {},
   "source": [
    "### Visit the site below, log in with your Kakao ID, and agree to all permissions. And copy the part after code= in the returned URL. And assign the copied value to the authorize_code variable."
   ]
  },
  {
   "cell_type": "code",
   "execution_count": 89,
   "metadata": {},
   "outputs": [
    {
     "name": "stdout",
     "output_type": "stream",
     "text": [
      "https://kauth.kakao.com/oauth/authorize?client_id=44bae6e1a82b322885e2e8f614677c75&redirect_uri=https://example.com/oauth&response_type=code\n"
     ]
    }
   ],
   "source": [
    "get_authorize_code(rest_api_key)"
   ]
  },
  {
   "cell_type": "code",
   "execution_count": 90,
   "metadata": {},
   "outputs": [],
   "source": [
    "authorize_code = 'xxxxxxxxxxxxxxxxxxxxxxxxxxxxxxxxxxxxxxxx'"
   ]
  },
  {
   "attachments": {},
   "cell_type": "markdown",
   "metadata": {},
   "source": [
    "### 4. Save Autorized Token"
   ]
  },
  {
   "cell_type": "code",
   "execution_count": null,
   "metadata": {},
   "outputs": [
    {
     "data": {
      "text/plain": [
       "{'access_token': 'pXPXPzgkYoO_tRF77ePSxvNJTDCcICCLMvwim50QCj1zmgAAAYeA0F1k',\n",
       " 'token_type': 'bearer',\n",
       " 'refresh_token': 'uoReEbyjfvK7yaBa3fqM9nck2ZGGTFgSsNH_PQNjCj1zmgAAAYeA0F1j',\n",
       " 'expires_in': 21599,\n",
       " 'scope': 'talk_message',\n",
       " 'refresh_token_expires_in': 5183999}"
      ]
     },
     "execution_count": 92,
     "metadata": {},
     "output_type": "execute_result"
    }
   ],
   "source": [
    "token_path = \"token.json\"\n",
    "save_token(rest_api_key, authorize_code, token_path)"
   ]
  },
  {
   "attachments": {},
   "cell_type": "markdown",
   "metadata": {},
   "source": [
    "## `Caution: Very Important Notice`\n",
    "#### If you have confirmed that a valid token is returned thus far, do not re-run the code above. If you run it again, it may not work properly. If a 403 error occurs due to duplicate execution, you must visit the following site, remove all permissions from My Application, and restart from the top of this laptop. https://accounts.kakao.com/weblogin/account Next"
   ]
  },
  {
   "attachments": {},
   "cell_type": "markdown",
   "metadata": {},
   "source": [
    "### 5. Send Message To Me"
   ]
  },
  {
   "cell_type": "code",
   "execution_count": 106,
   "metadata": {},
   "outputs": [],
   "source": [
    "msg = \"Sending Message Test\"\n",
    "token_path = \"token.json\"\n",
    "send_kakao_msg(token_path, msg)"
   ]
  }
 ],
 "metadata": {
  "kernelspec": {
   "display_name": "Python 3",
   "language": "python",
   "name": "python3"
  },
  "language_info": {
   "codemirror_mode": {
    "name": "ipython",
    "version": 3
   },
   "file_extension": ".py",
   "mimetype": "text/x-python",
   "name": "python",
   "nbconvert_exporter": "python",
   "pygments_lexer": "ipython3",
   "version": "3.7.9"
  },
  "orig_nbformat": 4
 },
 "nbformat": 4,
 "nbformat_minor": 2
}
