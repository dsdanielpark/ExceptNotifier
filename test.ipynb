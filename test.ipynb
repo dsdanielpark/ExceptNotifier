{
 "cells": [
  {
   "cell_type": "code",
   "execution_count": null,
   "metadata": {},
   "outputs": [],
   "source": [
    "!pip install discord"
   ]
  },
  {
   "cell_type": "code",
   "execution_count": null,
   "metadata": {},
   "outputs": [],
   "source": [
    "# Copyright 2023 parkminwoo\n",
    "from discord import Webhook, RequestsWebhookAdapter"
   ]
  },
  {
   "cell_type": "code",
   "execution_count": null,
   "metadata": {},
   "outputs": [],
   "source": [
    "import sys, types\n",
    "\n",
    "from ExceptNotifier.telegram_notifier import ExceptTelegram, SuccessTelegram, SendTelegram, ExceptTelegramHook\n",
    "sys.excepthook = ExceptTelegramHook()\n",
    "_TELEGRAM_TOKEN = \"6190978954:AAFtaudWW02ORmqkrQVr7ja-bkQfga9LrXY\"\n",
    "\n",
    "\n",
    "# _OPEN_AI_MODEL = \"gpt-3.5-turbo\"\n",
    "# _OPEN_AI_API = \"sk-xxxxxxxxx\"\n",
    "\n",
    "SendTelegram(_TELEGRAM_TOKEN).__call__() "
   ]
  },
  {
   "cell_type": "code",
   "execution_count": null,
   "metadata": {},
   "outputs": [],
   "source": [
    "\n",
    "sys.excepthook = ExceptTelegram.__call__\n",
    "_OPEN_AI_MODEL = \"\"\n",
    "_OPEN_AI_API = \"\"\n",
    "\n",
    "try:\n",
    "    print(1/0)\n",
    "    # SuccessTelegram(_TELEGRAM_TOKEN).__call__()  # 1 success sender\n",
    "\n",
    "except Exception as e:  # 2 except sender\n",
    "    data=e\n",
    "    dir(e)\n",
    "    ExceptTelegram(_TELEGRAM_TOKEN, _OPEN_AI_MODEL, _OPEN_AI_API, data=e)\n",
    "    print(e)\n",
    "\n",
    "# SendTelegram(_TELEGRAM_TOKEN).__call__()  # 3 customized sender\n",
    "\n"
   ]
  },
  {
   "cell_type": "code",
   "execution_count": 3,
   "metadata": {},
   "outputs": [
    {
     "name": "stdout",
     "output_type": "stream",
     "text": [
      "division by zero\n",
      "{'ok': True, 'result': [{'update_id': 412986373, 'message': {'message_id': 2, 'from': {'id': 6169530848, 'is_bot': False, 'first_name': 'K', 'language_code': 'ko'}, 'chat': {'id': 6169530848, 'first_name': 'K', 'type': 'private'}, 'date': 1681941086, 'text': 'hi'}}]}\n",
      "{'ok': True, 'result': [{'update_id': 412986373, 'message': {'message_id': 2, 'from': {'id': 6169530848, 'is_bot': False, 'first_name': 'K', 'language_code': 'ko'}, 'chat': {'id': 6169530848, 'first_name': 'K', 'type': 'private'}, 'date': 1681941086, 'text': 'hi'}}]}\n"
     ]
    }
   ],
   "source": [
    "\n",
    "from ExceptNotifier.telegram_notifier import ExceptTelegram, SuccessTelegram, SendTelegram\n",
    "import os\n",
    "import sys\n",
    "\n",
    "_OPEN_AI_MODEL = \"\"\n",
    "_OPEN_AI_API = \"\"\n",
    "\n",
    "\n",
    "os.environ['_TELEGRAM_TOKEN'] = \"6190978954:AAFtaudWW02ORmqkrQVr7ja-bkQfga9LrXY\"\n",
    "# _OPEN_AI_MODEL = \"gpt-3.5-turbo\"\n",
    "# _OPEN_AI_API = \"sk-xxxxxxxxx\"\n",
    "sys.excepthook = ExceptTelegram.__call__\n",
    "\n",
    "try:\n",
    "    print(1 / 0)\n",
    "    SuccessTelegram().__call__()  # 1 success sender\n",
    "\n",
    "except Exception as e:  # 2 except sender\n",
    "    print(e)\n",
    "    pass\n",
    "\n",
    "SendTelegram().__call__()  # 3 customized sender\n",
    "\n",
    "send = SendTelegram()  # You can use it like this, too.\n",
    "send()\n",
    "\n"
   ]
  },
  {
   "cell_type": "code",
   "execution_count": null,
   "metadata": {},
   "outputs": [],
   "source": [
    "\n",
    "SendTelegram().__call__()"
   ]
  },
  {
   "cell_type": "code",
   "execution_count": null,
   "metadata": {},
   "outputs": [],
   "source": []
  },
  {
   "cell_type": "code",
   "execution_count": null,
   "metadata": {},
   "outputs": [],
   "source": [
    "traceback = data.with_traceback"
   ]
  },
  {
   "cell_type": "code",
   "execution_count": null,
   "metadata": {},
   "outputs": [],
   "source": [
    "print(traceback)"
   ]
  },
  {
   "cell_type": "code",
   "execution_count": null,
   "metadata": {},
   "outputs": [],
   "source": [
    "exceptNotifier = {\n",
    "            \"SUBJECT\": \"[Except Notifier] ⚠️ Error! Python Code Exception Detected\",\n",
    "            \"BODY\": f\"\\n\\nIMPORTANT WARNING \\nPython Exception Detected in Your Code. \\n\\nHi there, \\nThis is an exception catch notifier. \\n\\n - ☑️ Code Status: Fail.🛠 \\n - ☑️ Detail: Python Code Ran Exceptions. \\n - 🕐 Time: {start_time.strftime(DATE_FORMAT)} \\n\\n ⛔️ {excType}: %{etype.__doc__}\\n\\n {value} \\n\\n\",\n",
    "        }"
   ]
  },
  {
   "cell_type": "code",
   "execution_count": null,
   "metadata": {},
   "outputs": [],
   "source": [
    "try:\n",
    "    1/0\n",
    "except Exception:\n",
    "    tb = traceback.extract_tb(traceback.print_exc())\n",
    "    for line in traceback.extract_tb(tb):\n",
    "        print(line)\n",
    "    #     exceptNotifier[\"BODY\"] += '\\tFile: \"%s\"\\n\\t\\t%s %s: %s\\n' % (\n",
    "    #         line[0],\n",
    "    #         line[2],\n",
    "    #         line[1],\n",
    "    #         line[3],\n",
    "    #         )\n",
    "    # while 1:\n",
    "    #         if not tb.tb_next:\n",
    "    #             break\n",
    "    #         tb = tb.tb_next\n",
    "    # stack = []\n",
    "    # f = tb.tb_frame\n",
    "    # while f:\n",
    "    #     stack.append(f)\n",
    "    #     f = f.f_back\n",
    "    "
   ]
  },
  {
   "cell_type": "code",
   "execution_count": null,
   "metadata": {},
   "outputs": [],
   "source": [
    "a = ExceptTelegramHook(_TELEGRAM_TOKEN = _TELEGRAM_TOKEN).__call__"
   ]
  },
  {
   "cell_type": "code",
   "execution_count": null,
   "metadata": {},
   "outputs": [],
   "source": []
  },
  {
   "cell_type": "code",
   "execution_count": null,
   "metadata": {},
   "outputs": [],
   "source": []
  },
  {
   "cell_type": "code",
   "execution_count": null,
   "metadata": {},
   "outputs": [],
   "source": [
    "from ExceptNotifier import send_telegram_msg\n",
    "\n",
    "_TELEGRAM_TOKEN = \"6190978954:AAFtaudWW02ORmqkrQVr7ja-bkQfga9LrXY\"\n",
    "send_telegram_msg(_TELEGRAM_TOKEN, 'msg')"
   ]
  },
  {
   "cell_type": "code",
   "execution_count": null,
   "metadata": {},
   "outputs": [],
   "source": []
  },
  {
   "cell_type": "code",
   "execution_count": null,
   "metadata": {},
   "outputs": [],
   "source": []
  },
  {
   "cell_type": "code",
   "execution_count": null,
   "metadata": {},
   "outputs": [],
   "source": []
  },
  {
   "cell_type": "code",
   "execution_count": null,
   "metadata": {},
   "outputs": [],
   "source": []
  },
  {
   "cell_type": "markdown",
   "metadata": {},
   "source": [
    "# os.environ 사용"
   ]
  },
  {
   "cell_type": "code",
   "execution_count": null,
   "metadata": {},
   "outputs": [],
   "source": [
    "import os\n",
    "os.environ['_TELEGRAM_TOKEN'] = \"6190978954:AAFtaudWW02ORmqkrQVr7ja-bkQfga9LrXY\""
   ]
  },
  {
   "cell_type": "code",
   "execution_count": null,
   "metadata": {},
   "outputs": [],
   "source": [
    "print(os.environ[\"_TELEGRAM_TOKEN\"])"
   ]
  },
  {
   "cell_type": "code",
   "execution_count": null,
   "metadata": {},
   "outputs": [],
   "source": []
  }
 ],
 "metadata": {
  "kernelspec": {
   "display_name": "test",
   "language": "python",
   "name": "test"
  },
  "language_info": {
   "codemirror_mode": {
    "name": "ipython",
    "version": 3
   },
   "file_extension": ".py",
   "mimetype": "text/x-python",
   "name": "python",
   "nbconvert_exporter": "python",
   "pygments_lexer": "ipython3",
   "version": "3.9.12"
  },
  "orig_nbformat": 4
 },
 "nbformat": 4,
 "nbformat_minor": 2
}
