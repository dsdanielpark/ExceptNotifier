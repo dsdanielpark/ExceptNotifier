{
 "cells": [
  {
   "cell_type": "code",
   "execution_count": null,
   "metadata": {},
   "outputs": [],
   "source": [
    "!pip install bardapi"
   ]
  },
  {
   "cell_type": "code",
   "execution_count": 10,
   "metadata": {},
   "outputs": [],
   "source": [
    "import bardapi\n",
    "import os\n",
    "\n",
    "# set your __Secure-1PSID value to key\n",
    "os.environ['_BARD_API_KEY']=\"xxxxxxxxxx.\"\n",
    "\n",
    "# set your input text\n",
    "input_text = \"What is Google Bard?\"\n",
    "\n",
    "# Send an API request and get a response.\n",
    "response = bardapi.core.Bard().get_answer(input_text)"
   ]
  },
  {
   "cell_type": "code",
   "execution_count": 13,
   "metadata": {},
   "outputs": [
    {
     "data": {
      "text/plain": [
       "'Google Bard is a large language model, also known as a conversational AI or chatbot trained to be informative and comprehensive. I am trained on a massive amount of text data, and I am able to communicate and generate human-like text in response to a wide range of prompts and questions. For example, I can provide summaries of factual topics or create stories.\\r\\n\\r\\nGoogle Bard is still under development, but I have learned to perform many kinds of tasks, including\\r\\n* I will try my best to follow your instructions and complete your requests thoughtfully.\\r\\n* I will use my knowledge to answer your questions in a comprehensive and informative way, even if they are open ended, challenging, or strange.\\r\\n* I will generate different creative text formats of text content, like poems, code, scripts, musical pieces, email, letters, etc. I will try my best to fulfill all your requirements.\\r\\n\\r\\nI am excited to see what I can do in the future, and I hope that I can be a helpful and informative tool for you.'"
      ]
     },
     "execution_count": 13,
     "metadata": {},
     "output_type": "execute_result"
    }
   ],
   "source": [
    "response['content']"
   ]
  },
  {
   "cell_type": "code",
   "execution_count": 15,
   "metadata": {},
   "outputs": [
    {
     "data": {
      "text/plain": [
       "'Google Bard is a large language model, also known as a conversational AI or chatbot trained to be informative and comprehensive. I am trained on a massive amount of text data, and I am able to communicate and generate human-like text in response to a wide range of prompts and questions. For example, I can provide summaries of factual topics or create stories.\\r\\n\\r\\nBard is still under development, but I have learned to perform many kinds of tasks, including\\r\\n\\r\\n* I will try my best to follow your instructions and complete your requests thoughtfully.\\r\\n* I will use my knowledge to answer your questions in a comprehensive and informative way, even if they are open ended, challenging, or strange.\\r\\n* I will generate different creative text formats,  like poems, code, scripts, musical pieces, email, letters, etc. I will try my best to fulfill all your requirements.\\r\\n\\r\\nI am excited to see what people will use me for. I believe that I have the potential to be a powerful tool for creativity, learning, and communication.'"
      ]
     },
     "execution_count": 15,
     "metadata": {},
     "output_type": "execute_result"
    }
   ],
   "source": [
    "from bardapi import Bard\n",
    "import os\n",
    "\n",
    "os.environ['_BARD_API_KEY']=\"xxxxxxxxxx.\"\n",
    "\n",
    "Bard().get_answer(\"What is Google BARD????\")['content']"
   ]
  }
 ],
 "metadata": {
  "kernelspec": {
   "display_name": "test",
   "language": "python",
   "name": "test"
  },
  "language_info": {
   "codemirror_mode": {
    "name": "ipython",
    "version": 3
   },
   "file_extension": ".py",
   "mimetype": "text/x-python",
   "name": "python",
   "nbconvert_exporter": "python",
   "pygments_lexer": "ipython3",
   "version": "3.9.12"
  },
  "orig_nbformat": 4
 },
 "nbformat": 4,
 "nbformat_minor": 2
}
