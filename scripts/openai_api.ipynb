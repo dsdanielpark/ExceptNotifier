{
 "cells": [
  {
   "cell_type": "code",
   "execution_count": null,
   "metadata": {},
   "outputs": [],
   "source": [
    "import openai\n",
    "\n",
    "# list models\n",
    "models = openai.Model.list()\n",
    "\n",
    "# api key\n",
    "openai.api_key = \"sk-xxxxx\"\n",
    "\n",
    "# Then, you can call the \"gpt-3.5-turbo\" model\n",
    "model_engine = \"gpt-3.5-turbo\"\n",
    "\n",
    "# set your input text\n",
    "input_text = f\"How can I fix this error? Give me short infomation about next error. error== {error_message}\"\n",
    "\n",
    "# Send an API request and get a response, note that the interface and parameters have changed compared to the old model\n",
    "response = openai.ChatCompletion.create(\n",
    "   model=model_engine,\n",
    "   messages=[{\"role\": \"user\", \"content\": input_text }]\n",
    ")"
   ]
  }
 ],
 "metadata": {
  "language_info": {
   "name": "python"
  },
  "orig_nbformat": 4
 },
 "nbformat": 4,
 "nbformat_minor": 2
}
